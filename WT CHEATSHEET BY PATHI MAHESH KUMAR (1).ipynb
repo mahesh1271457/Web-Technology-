{
 "cells": [
  {
   "cell_type": "markdown",
   "metadata": {},
   "source": [
    "##  WebTechnology Cheatsheet"
   ]
  },
  {
   "cell_type": "markdown",
   "metadata": {},
   "source": [
    "#### 1) WHAT IS HTML ?"
   ]
  },
  {
   "cell_type": "markdown",
   "metadata": {},
   "source": [
    "- HTML is a hypertext markup language.\n",
    "\n",
    "- HTML used to create webpages.\n",
    "\n",
    "- it has predefined tags / elements."
   ]
  },
  {
   "cell_type": "markdown",
   "metadata": {},
   "source": [
    "#### ex:- \n",
    "\n",
    "- TABLE :- Used to format the content to be displayed on the web, int the form of rows and columns\n",
    "    \n",
    "- FORM  :- An HTML form is used to collect user input. The user input is most often sent to a server for processing.\n",
    "    \n",
    "- FRAME :- used to divide the window as sub parts/frames\n",
    "    \n",
    "- LIST  :- \n",
    "\n",
    "![](http://www.mrtoepel.com/examples/practice-web1-03.png)\n",
    "    \n",
    "### Difference between div and span tag ?\n",
    " ![](https://qph.fs.quoracdn.net/main-qimg-0392de11fd55a27771e470becba536e4)\n",
    "    \n",
    "### Difference between element and attribute tag ? \n",
    "- HTML Attributes: It is used to define the character of an HTML element.\n",
    "- HTML elements: Elements enclose the contents in between the tags.\n",
    "![](https://clearlydecoded.com/assets/images/posts/2017-09-04-anatomy-of-html-tag/html-tag-attributes.png)"
   ]
  },
  {
   "cell_type": "markdown",
   "metadata": {},
   "source": [
    "#### 2) WHAT IS CSS ?"
   ]
  },
  {
   "cell_type": "markdown",
   "metadata": {},
   "source": [
    "- CSS stands for  cascading style sheet.\n",
    "\n",
    "- CSS used to style the webpages.\n",
    "\n",
    "- it can used for styling font,color,spacing,...etc\n",
    "\n",
    "- CSS rule:-\n",
    "  \n",
    "   1) selector :-  selects the html element.\n",
    "   \n",
    "   2) properties :- which you want to change."
   ]
  },
  {
   "cell_type": "markdown",
   "metadata": {},
   "source": [
    " #### TYPES OF STYLE SHEETS ?\n",
    "\n",
    "1) INLINE STYLE SHEET\n",
    "\n",
    "2) INTERNAL STYLE SHEET\n",
    "\n",
    "3) EXTERNAL STYLE SHEET"
   ]
  },
  {
   "cell_type": "markdown",
   "metadata": {},
   "source": [
    "#### 3) WHAT IS JAVASCRIPT ?"
   ]
  },
  {
   "cell_type": "markdown",
   "metadata": {},
   "source": [
    "- JavaScript is one of the most popular and useful programming language .\n",
    "\n",
    "- JS is a Dynamic Language. It can change Html content.\n",
    "\n",
    "- Every JS contain script elements.script can write inside the body and head tag.\n",
    "\n",
    "- JS used to build websites,mobile apps,real-time networking appliations,etc,.."
   ]
  },
  {
   "cell_type": "markdown",
   "metadata": {},
   "source": [
    "#### - Scripting :- \n",
    " \n",
    "#### - JS  Objects :- \n",
    "\n",
    "          1) STRING \n",
    "          2  ARRAY\n",
    "          3) DATE\n",
    "              - methods :- getdata,getmonth,getyear,getfullyear\n",
    "          4) MATH\n",
    "              - methods :- min,max,round,power\n",
    "\n",
    "#### - Control Structures :- \n",
    "    \n",
    "#### - Conditional Statements :- \n",
    "    \n",
    "#### - Arrays :- \n",
    "    \n",
    "#### - Functions :-\n",
    "    "
   ]
  },
  {
   "cell_type": "markdown",
   "metadata": {},
   "source": [
    "##  DOM (Document Object Model)\n",
    "\n",
    "![](https://upload.wikimedia.org/wikipedia/commons/thumb/5/5a/DOM-model.svg/1200px-DOM-model.svg.png)\n",
    "\n",
    "### 1) DOM objects\n",
    "    \n",
    "  #### - Window \n",
    "          - methods  :- open(),close(),resizeTo(),moveTo(),Confirm(),\n",
    "                        prompt()\n",
    "          - Property :- innerHeight(),innerWidth()\n",
    "  #### - Location\n",
    "          - methods  :- assign(),reload(),replace()\n",
    "          - Property :- search,href,origin,host,protocol,hash,pathname,port\n",
    "  #### - History\n",
    "          - methods  :- back(),forword() ,go()\n",
    "          - Property :- length()\n",
    "  #### - Navigator\n",
    "          - methods  :- javaEnabled()\n",
    "          - Property :- platform,online,appName,product,appVersion,\n",
    "                        appCodeName, language.\n",
    "          \n",
    "\n",
    "### 2) DOM methods\n",
    "    \n",
    "    - get ElementById()\n",
    "    - get ElementByTagName()\n",
    "    - get ElementByClassName()"
   ]
  },
  {
   "cell_type": "markdown",
   "metadata": {},
   "source": [
    "#### 4) WHAT IS XML ?"
   ]
  },
  {
   "cell_type": "markdown",
   "metadata": {},
   "source": [
    "- XML stands for extendible markup language.\n",
    "\n",
    "- XML always used to describe the data or presenting the data.\n",
    "\n",
    "- Every XML has Opening and Closing tags .\n",
    "\n",
    "- XML has only one root and multiple childs.\n",
    "\n",
    "- XML used to create user defined tags.\n",
    "\n",
    "- XML used to validate and verifying the data.\n",
    "\n",
    "- we can easily exchange the data between client and server.\n",
    "\n",
    "- XML is CaseSentive.\n",
    "\n",
    "- XML file extension is .xml\n",
    "\n",
    "   - ex :- filename.xml\n",
    "   \n",
    "![](https://www.w3schools.com/xml/nodetree.gif)"
   ]
  },
  {
   "cell_type": "markdown",
   "metadata": {},
   "source": [
    "#  TECHNIQUES OF XML VALIDATION ? \n",
    "\n",
    "###                1)  DTD   \n",
    "\n",
    "###                2)  XML SCHEMA (XML LANGUAGE)\n",
    "\n",
    "\n",
    "1) DTD :- Document Type Defination. It is text based content. \n",
    "\n",
    "  - DTD Used to creating or defining the structure of xml Document.\n",
    "  - DTD defines legal element of xml document.\n",
    "  \n",
    "###  - Type of DTD:- \n",
    "  \n",
    "\n",
    "#### 1) INTERNAL DTD\n",
    "                \n",
    "\n",
    "#### 2) EXTERNAL DTD\n",
    "      \n",
    "  ### - Contents of xml Document \n",
    "         1) Element Declaration\n",
    "         2) Attribute Declaration      \n",
    "         3) Entity Reference Model\n",
    "         \n",
    "  ### - Types Of Content Models: -\n",
    "         1) Child Declaration\n",
    "         2) Text Declaration\n",
    "         3) Empty Declaration\n",
    "         4) Mixed Declaratin\n",
    "         \n",
    "2) XML SCHEMA :- XML Schema is commonly known as XML Schema Definition (XSD). It is used to describe and validate the structure and the content of XML data. XML schema defines the elements, attributes and data types. Schema element supports Namespaces. It is similar to a database schema that describes the data in a database.\n",
    "\n",
    "- Syntax\n",
    "- You need to declare a schema in your XML document as follows −\n",
    "\n",
    "- Example\n",
    "- The following example shows how to use schema −\n",
    "\n",
    "\n",
    "-  <xs:element name = \"contact\">\n",
    "      <xs:complexType>\n",
    "         <xs:sequence>\n",
    "            <xs:element name = \"name\" type = \"xs:string\" />\n",
    "            <xs:element name = \"company\" type = \"xs:string\" />\n",
    "            <xs:element name = \"phone\" type = \"xs:int\" />\n",
    "         </xs:sequence>\n",
    "      </xs:complexType>\n",
    "   </xs:element>\n",
    "\n",
    "\n",
    "- The basic idea behind XML Schemas is that they describe the legitimate format that an XML document can take.\n",
    "\n",
    "![](https://image.slidesharecdn.com/02xmlschema-181022120750/95/02-xml-schema-7-638.jpg?cb=1540210128)\n",
    "### Elements\n",
    "\n",
    "- As we saw in the XML - Elements chapter, elements are the building blocks of XML document. An element can be defined within an XSD as follows −\n",
    "\n",
    "- <xs:element name = \"x\" type = \"y\"/>\n",
    "\n",
    "- Definition Types\n",
    "\n",
    "- You can define XML schema elements in the following ways −\n",
    "\n",
    "#### 1) Simple Type\n",
    "\n",
    "#### 2) Complex Type\n",
    "\n",
    "#### 3) Global Types\n",
    "\n",
    "#### 4) Attributes\n",
    "\n",
    "## XML NAMESPACE \n",
    "\n",
    "- used to avoid the element name conflict in xml document.\n",
    "\n",
    "<element xmls:name=\"URL\">"
   ]
  },
  {
   "cell_type": "markdown",
   "metadata": {},
   "source": [
    "#### 5) WHAT IS AJAX ?"
   ]
  },
  {
   "cell_type": "markdown",
   "metadata": {},
   "source": [
    "- AJAX stands for Asynchronous JavaScript and XML.\n",
    "- AJAX is a new technique for creating better, faster, and more interactive web applications with the help of XML, HTML, CSS, and Java Script.\n",
    "\n",
    "- AJAX means simply say  reloaded / refresh.\n",
    "\n",
    "- It is a combination of built in xml HTTP Request object and Html DOM . \n",
    "\n",
    "- AJAX allows webpages to update Asynchonously by exchanging the data with webserver behind the client .\n",
    "\n",
    "- AJAX is Based on Open Standards\n",
    "- AJAX is based on the following open standards −\n",
    "\n",
    "1) Browser-based presentation using HTML and Cascading Style Sheets (CSS).\n",
    "\n",
    "2) Data is stored in XML format and fetched from the server.\n",
    "\n",
    "3) Behind-the-scenes data fetches using XMLHttpRequest objects in the browser.\n",
    "\n",
    "4) JavaScript to make everything happen.\n"
   ]
  },
  {
   "cell_type": "markdown",
   "metadata": {},
   "source": [
    "#### 6) WHAT IS JSP ?"
   ]
  },
  {
   "cell_type": "markdown",
   "metadata": {},
   "source": [
    "- It stands for Java Server Page.\n",
    "- The web server needs a JSP engine.\n",
    "- JavaServer Pages (JSP) is a technology for developing Webpages that supports dynamic content. This helps developers insert java code in HTML pages by making use of special JSP tags, most of which start with <% and end with %>.\n",
    "- A JSP container works with the Web server to provide the runtime environment and other services a JSP needs. It knows how to understand the special elements that are part of JSPs.\n",
    "\n",
    "- Following diagram shows the position of JSP container and JSP files in a Web application.\n",
    "\n",
    "![](https://www.tutorialspoint.com/jsp/images/jsp-arch.jpg)\n",
    "\n",
    "- A JSP life cycle is defined as the process from its creation till the destruction. This is similar to a servlet life cycle with an additional step which is required to compile a JSP into servlet.\n",
    "![](https://www.tutorialspoint.com/jsp/images/jsp_life_cycle.jpg)\n",
    "- Paths Followed By JSP\n",
    "  The following are the paths followed by a JSP −\n",
    "\n",
    "1) Compilation\n",
    "2) Initialization\n",
    "3) Execution\n",
    "4) Cleanup\n",
    "\n",
    "- The four major phases of a JSP life cycle are very similar to the Servlet Life Cycle. The four phases have been described below −\n",
    "\n",
    "### - JSP Concepts:- \n",
    "    \n",
    "        1) jsp elements\n",
    "         \n",
    "            - Directive tag\n",
    "            - Declaration tag\n",
    "            - scriplet tag\n",
    "            - expression tag\n",
    "            - comment tag\n",
    "            \n",
    "        2) jsp implicit objects          \n",
    "  ![](https://onlineitguru.com/storage/content_files/objects-in-implicts.jpg)\n",
    "  ![](https://static.javatpoint.com/images/jspflow.JPG)\n",
    "  ![](https://2.bp.blogspot.com/-RrsxRgvNWK0/W-WZXYwjlRI/AAAAAAAACT8/ILHENKGgEJso0vRSiz3JIHMPDl7m2vPMACLcBGAs/s1600/Screenshot%2B%2528145%2529.png)"
   ]
  },
  {
   "cell_type": "markdown",
   "metadata": {},
   "source": [
    "#### 7) WHAT IS SERVLET ?"
   ]
  },
  {
   "cell_type": "markdown",
   "metadata": {},
   "source": [
    "- servlet is an api that proides many interfaces and classes inckluding documentation.\n",
    "\n",
    "- servlet uses java \n",
    "\n",
    "- servlet used to create web applications.\n",
    "## Servlet life cycle\n",
    "![](https://media.geeksforgeeks.org/wp-content/uploads/Life-Cycle-Of-Servlet.jpg)\n",
    "![](https://cdn.educba.com/academy/wp-content/uploads/2020/01/Servlet-Architecture-Main.jpg)\n",
    " ## Deploying a Servlet in Apache Tomacat .. \n",
    "![](https://2.bp.blogspot.com/-NTCM20k18Js/XYHsdOL1WPI/AAAAAAAAA98/5cXABkyA-O8qkRex163KvnVm3iToCMigwCLcBGAsYHQ/s1600/image001.png)"
   ]
  },
  {
   "cell_type": "markdown",
   "metadata": {},
   "source": [
    "#### -  TYPES OF  SERVLETS ?"
   ]
  },
  {
   "cell_type": "markdown",
   "metadata": {},
   "source": [
    "1) SERVLET\n",
    "\n",
    "2) HTTP SERVLET\n",
    "\n",
    "3) GENERIC SERVLET\n",
    "\n",
    "#### - servlet concepts:-\n",
    "\n",
    "         1) session tracking\n",
    "        \n",
    "            - cookies\n",
    "            - Hidden form field \n",
    "            - URL rewriting\n",
    "            - Http session"
   ]
  },
  {
   "cell_type": "markdown",
   "metadata": {},
   "source": [
    "#### 8) DIFFERENCE BETWEEN SERVLET AND JSP ?\n",
    "\n",
    "![](https://miro.medium.com/max/9510/1*p6WARrEofKIe9s8wbvQn5g.png)"
   ]
  },
  {
   "cell_type": "markdown",
   "metadata": {},
   "source": [
    "![](http://pediaa.com/wp-content/uploads/2018/09/Difference-Between-JSP-and-Servlet-Comparison-Summary.jpg)"
   ]
  }
 ],
 "metadata": {
  "kernelspec": {
   "display_name": "Python 3",
   "language": "python",
   "name": "python3"
  },
  "language_info": {
   "codemirror_mode": {
    "name": "ipython",
    "version": 3
   },
   "file_extension": ".py",
   "mimetype": "text/x-python",
   "name": "python",
   "nbconvert_exporter": "python",
   "pygments_lexer": "ipython3",
   "version": "3.8.5"
  }
 },
 "nbformat": 4,
 "nbformat_minor": 4
}
