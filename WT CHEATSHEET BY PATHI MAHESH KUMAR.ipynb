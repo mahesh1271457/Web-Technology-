{
 "cells": [
  {
   "cell_type": "markdown",
   "metadata": {},
   "source": [
    "##  WebTechnology Cheatsheet"
   ]
  },
  {
   "cell_type": "markdown",
   "metadata": {},
   "source": [
    "#### 1) WHAT IS HTML ?"
   ]
  },
  {
   "cell_type": "markdown",
   "metadata": {},
   "source": [
    "- HTML is a hypertext markup language.\n",
    "\n",
    "- HTML used to create webpages.\n",
    "\n",
    "- it has predefined tags / elements."
   ]
  },
  {
   "cell_type": "markdown",
   "metadata": {},
   "source": [
    "- TABLE :- \n",
    "    \n",
    "- FORM  :- \n",
    "    \n",
    "- FRAME :- \n",
    "    \n",
    "- LIST  :- \n",
    "    \n",
    "- DIV   :-\n",
    "     \n",
    "- SPAN  :- \n",
    "    \n",
    "- ATTRIBUTE :- \n",
    "    \n",
    "- ELEMENTS :- "
   ]
  },
  {
   "cell_type": "markdown",
   "metadata": {},
   "source": [
    "#### 2) WHAT IS CSS ?"
   ]
  },
  {
   "cell_type": "markdown",
   "metadata": {},
   "source": [
    "- CSS stands for  cascading style sheet.\n",
    "\n",
    "- CSS used to style the webpages.\n",
    "\n",
    "- it can used for styling font,color,spacing,...etc\n",
    "\n",
    "- CSS rule:-\n",
    "  \n",
    "   1) selector :-  selects the html element.\n",
    "   \n",
    "   2) properties :- which you want to change."
   ]
  },
  {
   "cell_type": "markdown",
   "metadata": {},
   "source": [
    " #### TYPES OF STYLE SHEETS ?\n",
    "\n",
    "1) INLINE STYLE SHEET\n",
    "\n",
    "2) INTERNAL STYLE SHEET\n",
    "\n",
    "3) EXTERNAL STYLE SHEET"
   ]
  },
  {
   "cell_type": "markdown",
   "metadata": {},
   "source": [
    "#### 3) WHAT IS JAVASCRIPT ?"
   ]
  },
  {
   "cell_type": "markdown",
   "metadata": {},
   "source": [
    "- JavaScript is one of the most popular and useful programming language .\n",
    "\n",
    "- JS is a Dynamic Language. It can change Html content.\n",
    "\n",
    "- Every JS contain script elements.script can write inside the body and head tag.\n",
    "\n",
    "- JS used to build websites,mobile apps,real-time networking appliations,etc,.."
   ]
  },
  {
   "cell_type": "markdown",
   "metadata": {},
   "source": [
    "#### - Scripting :- \n",
    " \n",
    "#### - JS  Objects :- \n",
    "\n",
    "          1) STRING \n",
    "          2  ARRAY\n",
    "          3) DATE\n",
    "              - methods :- getdata,getmonth,getyear,getfullyear\n",
    "          4) MATH\n",
    "              - methods :- min,max,round,power\n",
    "\n",
    "#### - Control Structures :- \n",
    "    \n",
    "#### - Conditional Statements :- \n",
    "    \n",
    "#### - Arrays :- \n",
    "    \n",
    "#### - Functions :-\n",
    "    "
   ]
  },
  {
   "cell_type": "markdown",
   "metadata": {},
   "source": [
    "##  DOM (Document Object Model)\n",
    "\n",
    "### 1) DOM objects\n",
    "    \n",
    "  #### - Window \n",
    "          - methods  :- open(),close(),resizeTo(),moveTo(),Confirm(),\n",
    "                        prompt()\n",
    "          - Property :- innerHeight(),innerWidth()\n",
    "  #### - Location\n",
    "          - methods  :- assign(),reload(),replace()\n",
    "          - Property :- search,href,origin,host,protocol,hash,pathname,port\n",
    "  #### - History\n",
    "          - methods  :- back(),forword() ,go()\n",
    "          - Property :- length()\n",
    "  #### - Navigator\n",
    "          - methods  :- javaEnabled()\n",
    "          - Property :- platform,online,appName,product,appVersion,\n",
    "                        appCodeName, language.\n",
    "          \n",
    "\n",
    "### 2) DOM methods\n",
    "    \n",
    "    - get ElementById()\n",
    "    - get ElementByTagName()\n",
    "    - get ElementByClassName()"
   ]
  },
  {
   "cell_type": "markdown",
   "metadata": {},
   "source": [
    "#### 4) WHAT IS XML ?"
   ]
  },
  {
   "cell_type": "markdown",
   "metadata": {},
   "source": [
    "- XML stands for extendible markup language.\n",
    "\n",
    "- XML always used to describe the data or presenting the data.\n",
    "\n",
    "- Every XML has Opening and Closing tags .\n",
    "\n",
    "- XML has only one root and multiple childs.\n",
    "\n",
    "- XML used to create user defined tags.\n",
    "\n",
    "- XML used to validate and verifying the data.\n",
    "\n",
    "- we can easily exchange the data between client and server.\n",
    "\n",
    "- XML is CaseSentive.\n",
    "\n",
    "- XML file extension is .xml\n",
    "\n",
    "   - ex :- filename.xml"
   ]
  },
  {
   "cell_type": "markdown",
   "metadata": {},
   "source": [
    "# * TECHNIQUES OF XML VALIDATION ? \n",
    "\n",
    "###                1)  DTD   \n",
    "\n",
    "###                2)  XML SCHEMA\n",
    "\n",
    "\n",
    "1) DTD :- Document Type Defination. It is text based content. \n",
    "\n",
    "  - DTD Used to creating or defining the structure of xml Document\n",
    "  \n",
    "###  - Type of DTD:- \n",
    "  \n",
    "\n",
    "#### 1) INTERNAL DTD\n",
    "                \n",
    "\n",
    "#### 2) EXTERNAL DTD\n",
    "      \n",
    "  ### - Contents of xml Document \n",
    "         1) Element Declaration\n",
    "         2) Attribute Declaration      \n",
    "         3) Entity Reference Model\n",
    "         \n",
    "  ### - Types Of Content Models: -\n",
    "         1) Child Declaration\n",
    "         2) Text Declaration\n",
    "         3) Empty Declaration\n",
    "         4) Mixed Declaratin\n",
    "         \n",
    "2) XML SCHEMA :- "
   ]
  },
  {
   "cell_type": "markdown",
   "metadata": {},
   "source": [
    "#### 5) WHAT IS AJAX ?"
   ]
  },
  {
   "cell_type": "markdown",
   "metadata": {},
   "source": [
    "- AJAX means simply say  reloaded / refresh.\n",
    "\n",
    "- It is a combination of built in xml HTTP Request object and Html DOM . \n",
    "\n",
    "- AJAX allows webpages to update Asynchonously by exchanging the data with webserver behind the client .\n"
   ]
  },
  {
   "cell_type": "markdown",
   "metadata": {},
   "source": [
    "#### 6) WHAT IS JSP ?"
   ]
  },
  {
   "cell_type": "markdown",
   "metadata": {},
   "source": [
    "- It stands for Java Server Page.\n",
    "\n",
    "### - JSP Concepts:- \n",
    "    \n",
    "        1) jsp elements\n",
    "         \n",
    "            - Directive tag\n",
    "            - Declaration tag\n",
    "            - scriplet tag\n",
    "            - expression tag\n",
    "            - comment tag\n",
    "            \n",
    "        2) jsp implicit objects          "
   ]
  },
  {
   "cell_type": "markdown",
   "metadata": {},
   "source": [
    "#### 7) WHAT IS SERVLET ?"
   ]
  },
  {
   "cell_type": "markdown",
   "metadata": {},
   "source": [
    "- servlet is an api that proides many interfaces and classes inckluding documentation.\n",
    "\n",
    "- servlet uses java \n",
    "\n",
    "- servlet used to create web applications."
   ]
  },
  {
   "cell_type": "markdown",
   "metadata": {},
   "source": [
    "#### -  TYPES OF  SERVLETS ?"
   ]
  },
  {
   "cell_type": "markdown",
   "metadata": {},
   "source": [
    "1) SERVLET\n",
    "\n",
    "2) HTTP SERVLET\n",
    "\n",
    "3) GENERIC SERVLET\n",
    "\n",
    "#### - servlet concepts:-\n",
    "\n",
    "         1) session tracking\n",
    "        \n",
    "            - cookies\n",
    "            - Hidden form field \n",
    "            - URL rewriting\n",
    "            - Http session"
   ]
  },
  {
   "cell_type": "markdown",
   "metadata": {},
   "source": [
    "#### 8) DIFFERENCE BETWEEN SERVLET AND JSP ?"
   ]
  },
  {
   "cell_type": "code",
   "execution_count": null,
   "metadata": {},
   "outputs": [],
   "source": []
  }
 ],
 "metadata": {
  "kernelspec": {
   "display_name": "Python 3",
   "language": "python",
   "name": "python3"
  },
  "language_info": {
   "codemirror_mode": {
    "name": "ipython",
    "version": 3
   },
   "file_extension": ".py",
   "mimetype": "text/x-python",
   "name": "python",
   "nbconvert_exporter": "python",
   "pygments_lexer": "ipython3",
   "version": "3.8.5"
  }
 },
 "nbformat": 4,
 "nbformat_minor": 4
}
